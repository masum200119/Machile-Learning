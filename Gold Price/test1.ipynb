{
 "cells": [
  {
   "cell_type": "code",
   "execution_count": 1,
   "id": "57dc42d7-6a2a-4a38-ac32-b3c23c258a5f",
   "metadata": {},
   "outputs": [],
   "source": [
    "import matplotlib.pyplot as pplt\n",
    "import numpy as np\n",
    "import pandas as pd"
   ]
  },
  {
   "cell_type": "code",
   "execution_count": 2,
   "id": "37e64d26-ebad-4d3d-b3aa-082d533b4b2b",
   "metadata": {},
   "outputs": [],
   "source": [
    "df=pd.read_csv('monthly.csv')"
   ]
  },
  {
   "cell_type": "code",
   "execution_count": 3,
   "id": "a29fef79-f6c7-4e71-aa3f-f7e7ec76c3dc",
   "metadata": {},
   "outputs": [
    {
     "name": "stdout",
     "output_type": "stream",
     "text": [
      "   Price  Year  Month\n",
      "0  18.93  1833      1\n",
      "1  18.93  1833      2\n",
      "2  18.93  1833      3\n",
      "3  18.93  1833      4\n",
      "4  18.93  1833      5\n"
     ]
    }
   ],
   "source": [
    "df['Date'] = pd.to_datetime(df['Date'], format='%Y-%m')\n",
    "\n",
    "# Extract Year and Month from the 'Date' column\n",
    "df['Year'] = df['Date'].dt.year\n",
    "df['Month'] = df['Date'].dt.month\n",
    "\n",
    "# Drop the original 'Date' column\n",
    "df = df.drop('Date', axis=1)\n",
    "\n",
    "# Display the updated DataFrame\n",
    "print(df.head())"
   ]
  },
  {
   "cell_type": "code",
   "execution_count": 7,
   "id": "16a2ac4b-9861-4c0a-b5d4-2644fe8b1128",
   "metadata": {},
   "outputs": [
    {
     "name": "stdout",
     "output_type": "stream",
     "text": [
      "Price    float64\n",
      "Year       int32\n",
      "Month      int32\n",
      "dtype: object\n"
     ]
    }
   ],
   "source": [
    "print(df.dtypes)"
   ]
  },
  {
   "cell_type": "code",
   "execution_count": null,
   "id": "575207dd-da11-43fe-b123-45c4219b9b61",
   "metadata": {},
   "outputs": [],
   "source": []
  }
 ],
 "metadata": {
  "kernelspec": {
   "display_name": "Python 3 (ipykernel)",
   "language": "python",
   "name": "python3"
  },
  "language_info": {
   "codemirror_mode": {
    "name": "ipython",
    "version": 3
   },
   "file_extension": ".py",
   "mimetype": "text/x-python",
   "name": "python",
   "nbconvert_exporter": "python",
   "pygments_lexer": "ipython3",
   "version": "3.11.5"
  }
 },
 "nbformat": 4,
 "nbformat_minor": 5
}
