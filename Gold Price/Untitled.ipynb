{
 "cells": [
  {
   "cell_type": "code",
   "execution_count": 1,
   "id": "80f0d3cb-9aa7-41e6-b132-7265faefe397",
   "metadata": {},
   "outputs": [
    {
     "name": "stdout",
     "output_type": "stream",
     "text": [
      "11\n"
     ]
    }
   ],
   "source": [
    "print(5+6)"
   ]
  },
  {
   "cell_type": "code",
   "execution_count": 23,
   "id": "982047ca-43c1-46bb-bfbe-7c50cdf8722d",
   "metadata": {},
   "outputs": [],
   "source": [
    "import matplotlib.pyplot as pplt\n",
    "import numpy as np\n",
    "import pandas as pd"
   ]
  },
  {
   "cell_type": "code",
   "execution_count": 24,
   "id": "398932b1-e24e-4c92-8fee-fa8342394393",
   "metadata": {},
   "outputs": [],
   "source": [
    "df=pd.read_csv('monthly.csv')"
   ]
  },
  {
   "cell_type": "code",
   "execution_count": 25,
   "id": "2aae7a74-fbf9-435b-a0c3-a81d91af1cb4",
   "metadata": {},
   "outputs": [
    {
     "data": {
      "text/html": [
       "<div>\n",
       "<style scoped>\n",
       "    .dataframe tbody tr th:only-of-type {\n",
       "        vertical-align: middle;\n",
       "    }\n",
       "\n",
       "    .dataframe tbody tr th {\n",
       "        vertical-align: top;\n",
       "    }\n",
       "\n",
       "    .dataframe thead th {\n",
       "        text-align: right;\n",
       "    }\n",
       "</style>\n",
       "<table border=\"1\" class=\"dataframe\">\n",
       "  <thead>\n",
       "    <tr style=\"text-align: right;\">\n",
       "      <th></th>\n",
       "      <th>Date</th>\n",
       "      <th>Price</th>\n",
       "    </tr>\n",
       "  </thead>\n",
       "  <tbody>\n",
       "    <tr>\n",
       "      <th>0</th>\n",
       "      <td>1833-01</td>\n",
       "      <td>18.93</td>\n",
       "    </tr>\n",
       "    <tr>\n",
       "      <th>1</th>\n",
       "      <td>1833-02</td>\n",
       "      <td>18.93</td>\n",
       "    </tr>\n",
       "    <tr>\n",
       "      <th>2</th>\n",
       "      <td>1833-03</td>\n",
       "      <td>18.93</td>\n",
       "    </tr>\n",
       "    <tr>\n",
       "      <th>3</th>\n",
       "      <td>1833-04</td>\n",
       "      <td>18.93</td>\n",
       "    </tr>\n",
       "    <tr>\n",
       "      <th>4</th>\n",
       "      <td>1833-05</td>\n",
       "      <td>18.93</td>\n",
       "    </tr>\n",
       "    <tr>\n",
       "      <th>...</th>\n",
       "      <td>...</td>\n",
       "      <td>...</td>\n",
       "    </tr>\n",
       "    <tr>\n",
       "      <th>2296</th>\n",
       "      <td>2024-05</td>\n",
       "      <td>2351.13</td>\n",
       "    </tr>\n",
       "    <tr>\n",
       "      <th>2297</th>\n",
       "      <td>2024-06</td>\n",
       "      <td>2326.44</td>\n",
       "    </tr>\n",
       "    <tr>\n",
       "      <th>2298</th>\n",
       "      <td>2024-07</td>\n",
       "      <td>2398.20</td>\n",
       "    </tr>\n",
       "    <tr>\n",
       "      <th>2299</th>\n",
       "      <td>2024-08</td>\n",
       "      <td>2470.15</td>\n",
       "    </tr>\n",
       "    <tr>\n",
       "      <th>2300</th>\n",
       "      <td>2024-09</td>\n",
       "      <td>2570.55</td>\n",
       "    </tr>\n",
       "  </tbody>\n",
       "</table>\n",
       "<p>2301 rows × 2 columns</p>\n",
       "</div>"
      ],
      "text/plain": [
       "         Date    Price\n",
       "0     1833-01    18.93\n",
       "1     1833-02    18.93\n",
       "2     1833-03    18.93\n",
       "3     1833-04    18.93\n",
       "4     1833-05    18.93\n",
       "...       ...      ...\n",
       "2296  2024-05  2351.13\n",
       "2297  2024-06  2326.44\n",
       "2298  2024-07  2398.20\n",
       "2299  2024-08  2470.15\n",
       "2300  2024-09  2570.55\n",
       "\n",
       "[2301 rows x 2 columns]"
      ]
     },
     "execution_count": 25,
     "metadata": {},
     "output_type": "execute_result"
    }
   ],
   "source": [
    "df"
   ]
  },
  {
   "cell_type": "code",
   "execution_count": 26,
   "id": "83edb059-2469-4ebc-bcfe-62da5e3f9600",
   "metadata": {},
   "outputs": [],
   "source": [
    "from pycaret.regression import *"
   ]
  },
  {
   "cell_type": "code",
   "execution_count": 27,
   "id": "b837750b-bb0f-487e-af1e-285173ce99dc",
   "metadata": {},
   "outputs": [
    {
     "name": "stdout",
     "output_type": "stream",
     "text": [
      "      Date  Price\n",
      "0  1833-01  18.93\n",
      "1  1833-02  18.93\n",
      "2  1833-03  18.93\n",
      "3  1833-04  18.93\n",
      "4  1833-05  18.93\n",
      "Index(['Date', 'Price'], dtype='object')\n"
     ]
    }
   ],
   "source": [
    "print(df.head())  # Display the first 5 rows\n",
    "print(df.columns)  "
   ]
  },
  {
   "cell_type": "code",
   "execution_count": 28,
   "id": "c33be3e4-e790-4049-b0a8-7655868a083d",
   "metadata": {},
   "outputs": [
    {
     "name": "stdout",
     "output_type": "stream",
     "text": [
      "   Price  Year  Month\n",
      "0  18.93  1833      1\n",
      "1  18.93  1833      2\n",
      "2  18.93  1833      3\n",
      "3  18.93  1833      4\n",
      "4  18.93  1833      5\n"
     ]
    }
   ],
   "source": [
    "# Convert 'Date' column to datetime format\n",
    "df['Date'] = pd.to_datetime(df['Date'], format='%Y-%m')\n",
    "\n",
    "# Extract Year and Month from the 'Date' column\n",
    "df['Year'] = df['Date'].dt.year\n",
    "df['Month'] = df['Date'].dt.month\n",
    "\n",
    "# Drop the original 'Date' column\n",
    "df = df.drop('Date', axis=1)\n",
    "\n",
    "# Display the updated DataFrame\n",
    "print(df.head())\n"
   ]
  },
  {
   "cell_type": "code",
   "execution_count": 31,
   "id": "4edc318c-5d1a-4771-8981-cb54f8c47d9f",
   "metadata": {},
   "outputs": [
    {
     "name": "stdout",
     "output_type": "stream",
     "text": [
      "Index(['Year', 'Month', 'Price', 'prediction_label'], dtype='object')\n",
      "   Year  Month  Price  prediction_label\n",
      "0  1833      1  18.93       -258.651794\n",
      "1  1833      2  18.93       -258.729199\n",
      "2  1833      3  18.93       -258.806604\n",
      "3  1833      4  18.93       -258.884009\n",
      "4  1833      5  18.93       -258.961415\n"
     ]
    }
   ],
   "source": [
    "# Check the columns of the predictions DataFrame to identify the correct column\n",
    "print(predictions.columns)\n",
    "\n",
    "# Print the first few rows of predictions to understand the structure\n",
    "print(predictions.head())\n"
   ]
  },
  {
   "cell_type": "code",
   "execution_count": 34,
   "id": "657c3033-e430-4e64-a67c-3debe63fc7bc",
   "metadata": {},
   "outputs": [
    {
     "ename": "KeyError",
     "evalue": "\"['prediction'] not in index\"",
     "output_type": "error",
     "traceback": [
      "\u001b[1;31m---------------------------------------------------------------------------\u001b[0m",
      "\u001b[1;31mKeyError\u001b[0m                                  Traceback (most recent call last)",
      "Cell \u001b[1;32mIn[34], line 1\u001b[0m\n\u001b[1;32m----> 1\u001b[0m \u001b[38;5;28mprint\u001b[39m(\u001b[43mpredictions\u001b[49m\u001b[43m[\u001b[49m\u001b[43m[\u001b[49m\u001b[38;5;124;43m'\u001b[39;49m\u001b[38;5;124;43mPrice\u001b[39;49m\u001b[38;5;124;43m'\u001b[39;49m\u001b[43m,\u001b[49m\u001b[43m \u001b[49m\u001b[38;5;124;43m'\u001b[39;49m\u001b[38;5;124;43mprediction\u001b[39;49m\u001b[38;5;124;43m'\u001b[39;49m\u001b[43m]\u001b[49m\u001b[43m]\u001b[49m\u001b[38;5;241m.\u001b[39mhead())\n",
      "File \u001b[1;32m~\\AppData\\Local\\Programs\\Python\\Python311\\Lib\\site-packages\\pandas\\core\\frame.py:3899\u001b[0m, in \u001b[0;36mDataFrame.__getitem__\u001b[1;34m(self, key)\u001b[0m\n\u001b[0;32m   3897\u001b[0m     \u001b[38;5;28;01mif\u001b[39;00m is_iterator(key):\n\u001b[0;32m   3898\u001b[0m         key \u001b[38;5;241m=\u001b[39m \u001b[38;5;28mlist\u001b[39m(key)\n\u001b[1;32m-> 3899\u001b[0m     indexer \u001b[38;5;241m=\u001b[39m \u001b[38;5;28;43mself\u001b[39;49m\u001b[38;5;241;43m.\u001b[39;49m\u001b[43mcolumns\u001b[49m\u001b[38;5;241;43m.\u001b[39;49m\u001b[43m_get_indexer_strict\u001b[49m\u001b[43m(\u001b[49m\u001b[43mkey\u001b[49m\u001b[43m,\u001b[49m\u001b[43m \u001b[49m\u001b[38;5;124;43m\"\u001b[39;49m\u001b[38;5;124;43mcolumns\u001b[39;49m\u001b[38;5;124;43m\"\u001b[39;49m\u001b[43m)\u001b[49m[\u001b[38;5;241m1\u001b[39m]\n\u001b[0;32m   3901\u001b[0m \u001b[38;5;66;03m# take() does not accept boolean indexers\u001b[39;00m\n\u001b[0;32m   3902\u001b[0m \u001b[38;5;28;01mif\u001b[39;00m \u001b[38;5;28mgetattr\u001b[39m(indexer, \u001b[38;5;124m\"\u001b[39m\u001b[38;5;124mdtype\u001b[39m\u001b[38;5;124m\"\u001b[39m, \u001b[38;5;28;01mNone\u001b[39;00m) \u001b[38;5;241m==\u001b[39m \u001b[38;5;28mbool\u001b[39m:\n",
      "File \u001b[1;32m~\\AppData\\Local\\Programs\\Python\\Python311\\Lib\\site-packages\\pandas\\core\\indexes\\base.py:6115\u001b[0m, in \u001b[0;36mIndex._get_indexer_strict\u001b[1;34m(self, key, axis_name)\u001b[0m\n\u001b[0;32m   6112\u001b[0m \u001b[38;5;28;01melse\u001b[39;00m:\n\u001b[0;32m   6113\u001b[0m     keyarr, indexer, new_indexer \u001b[38;5;241m=\u001b[39m \u001b[38;5;28mself\u001b[39m\u001b[38;5;241m.\u001b[39m_reindex_non_unique(keyarr)\n\u001b[1;32m-> 6115\u001b[0m \u001b[38;5;28;43mself\u001b[39;49m\u001b[38;5;241;43m.\u001b[39;49m\u001b[43m_raise_if_missing\u001b[49m\u001b[43m(\u001b[49m\u001b[43mkeyarr\u001b[49m\u001b[43m,\u001b[49m\u001b[43m \u001b[49m\u001b[43mindexer\u001b[49m\u001b[43m,\u001b[49m\u001b[43m \u001b[49m\u001b[43maxis_name\u001b[49m\u001b[43m)\u001b[49m\n\u001b[0;32m   6117\u001b[0m keyarr \u001b[38;5;241m=\u001b[39m \u001b[38;5;28mself\u001b[39m\u001b[38;5;241m.\u001b[39mtake(indexer)\n\u001b[0;32m   6118\u001b[0m \u001b[38;5;28;01mif\u001b[39;00m \u001b[38;5;28misinstance\u001b[39m(key, Index):\n\u001b[0;32m   6119\u001b[0m     \u001b[38;5;66;03m# GH 42790 - Preserve name from an Index\u001b[39;00m\n",
      "File \u001b[1;32m~\\AppData\\Local\\Programs\\Python\\Python311\\Lib\\site-packages\\pandas\\core\\indexes\\base.py:6179\u001b[0m, in \u001b[0;36mIndex._raise_if_missing\u001b[1;34m(self, key, indexer, axis_name)\u001b[0m\n\u001b[0;32m   6176\u001b[0m     \u001b[38;5;28;01mraise\u001b[39;00m \u001b[38;5;167;01mKeyError\u001b[39;00m(\u001b[38;5;124mf\u001b[39m\u001b[38;5;124m\"\u001b[39m\u001b[38;5;124mNone of [\u001b[39m\u001b[38;5;132;01m{\u001b[39;00mkey\u001b[38;5;132;01m}\u001b[39;00m\u001b[38;5;124m] are in the [\u001b[39m\u001b[38;5;132;01m{\u001b[39;00maxis_name\u001b[38;5;132;01m}\u001b[39;00m\u001b[38;5;124m]\u001b[39m\u001b[38;5;124m\"\u001b[39m)\n\u001b[0;32m   6178\u001b[0m not_found \u001b[38;5;241m=\u001b[39m \u001b[38;5;28mlist\u001b[39m(ensure_index(key)[missing_mask\u001b[38;5;241m.\u001b[39mnonzero()[\u001b[38;5;241m0\u001b[39m]]\u001b[38;5;241m.\u001b[39munique())\n\u001b[1;32m-> 6179\u001b[0m \u001b[38;5;28;01mraise\u001b[39;00m \u001b[38;5;167;01mKeyError\u001b[39;00m(\u001b[38;5;124mf\u001b[39m\u001b[38;5;124m\"\u001b[39m\u001b[38;5;132;01m{\u001b[39;00mnot_found\u001b[38;5;132;01m}\u001b[39;00m\u001b[38;5;124m not in index\u001b[39m\u001b[38;5;124m\"\u001b[39m)\n",
      "\u001b[1;31mKeyError\u001b[0m: \"['prediction'] not in index\""
     ]
    }
   ],
   "source": [
    "print(predictions[['Price', 'prediction']].head())"
   ]
  },
  {
   "cell_type": "code",
   "execution_count": 30,
   "id": "6f66b210-1bb0-4fbc-9d15-800c805471e9",
   "metadata": {},
   "outputs": [
    {
     "data": {
      "text/html": [],
      "text/plain": [
       "<IPython.core.display.HTML object>"
      ]
     },
     "metadata": {},
     "output_type": "display_data"
    },
    {
     "data": {
      "text/html": [
       "<style type=\"text/css\">\n",
       "#T_6f157_row10_col0, #T_6f157_row10_col1, #T_6f157_row10_col2, #T_6f157_row10_col3, #T_6f157_row10_col4, #T_6f157_row10_col5 {\n",
       "  background: yellow;\n",
       "}\n",
       "</style>\n",
       "<table id=\"T_6f157\">\n",
       "  <thead>\n",
       "    <tr>\n",
       "      <th class=\"blank level0\" >&nbsp;</th>\n",
       "      <th id=\"T_6f157_level0_col0\" class=\"col_heading level0 col0\" >MAE</th>\n",
       "      <th id=\"T_6f157_level0_col1\" class=\"col_heading level0 col1\" >MSE</th>\n",
       "      <th id=\"T_6f157_level0_col2\" class=\"col_heading level0 col2\" >RMSE</th>\n",
       "      <th id=\"T_6f157_level0_col3\" class=\"col_heading level0 col3\" >R2</th>\n",
       "      <th id=\"T_6f157_level0_col4\" class=\"col_heading level0 col4\" >RMSLE</th>\n",
       "      <th id=\"T_6f157_level0_col5\" class=\"col_heading level0 col5\" >MAPE</th>\n",
       "    </tr>\n",
       "    <tr>\n",
       "      <th class=\"index_name level0\" >Fold</th>\n",
       "      <th class=\"blank col0\" >&nbsp;</th>\n",
       "      <th class=\"blank col1\" >&nbsp;</th>\n",
       "      <th class=\"blank col2\" >&nbsp;</th>\n",
       "      <th class=\"blank col3\" >&nbsp;</th>\n",
       "      <th class=\"blank col4\" >&nbsp;</th>\n",
       "      <th class=\"blank col5\" >&nbsp;</th>\n",
       "    </tr>\n",
       "  </thead>\n",
       "  <tbody>\n",
       "    <tr>\n",
       "      <th id=\"T_6f157_level0_row0\" class=\"row_heading level0 row0\" >0</th>\n",
       "      <td id=\"T_6f157_row0_col0\" class=\"data row0 col0\" >230.7896</td>\n",
       "      <td id=\"T_6f157_row0_col1\" class=\"data row0 col1\" >115266.0212</td>\n",
       "      <td id=\"T_6f157_row0_col2\" class=\"data row0 col2\" >339.5085</td>\n",
       "      <td id=\"T_6f157_row0_col3\" class=\"data row0 col3\" >0.4463</td>\n",
       "      <td id=\"T_6f157_row0_col4\" class=\"data row0 col4\" >1.6046</td>\n",
       "      <td id=\"T_6f157_row0_col5\" class=\"data row0 col5\" >4.8867</td>\n",
       "    </tr>\n",
       "    <tr>\n",
       "      <th id=\"T_6f157_level0_row1\" class=\"row_heading level0 row1\" >1</th>\n",
       "      <td id=\"T_6f157_row1_col0\" class=\"data row1 col0\" >212.3778</td>\n",
       "      <td id=\"T_6f157_row1_col1\" class=\"data row1 col1\" >96503.4928</td>\n",
       "      <td id=\"T_6f157_row1_col2\" class=\"data row1 col2\" >310.6501</td>\n",
       "      <td id=\"T_6f157_row1_col3\" class=\"data row1 col3\" >0.3917</td>\n",
       "      <td id=\"T_6f157_row1_col4\" class=\"data row1 col4\" >1.7242</td>\n",
       "      <td id=\"T_6f157_row1_col5\" class=\"data row1 col5\" >5.6138</td>\n",
       "    </tr>\n",
       "    <tr>\n",
       "      <th id=\"T_6f157_level0_row2\" class=\"row_heading level0 row2\" >2</th>\n",
       "      <td id=\"T_6f157_row2_col0\" class=\"data row2 col0\" >210.1500</td>\n",
       "      <td id=\"T_6f157_row2_col1\" class=\"data row2 col1\" >83135.1778</td>\n",
       "      <td id=\"T_6f157_row2_col2\" class=\"data row2 col2\" >288.3317</td>\n",
       "      <td id=\"T_6f157_row2_col3\" class=\"data row2 col3\" >0.4397</td>\n",
       "      <td id=\"T_6f157_row2_col4\" class=\"data row2 col4\" >1.6322</td>\n",
       "      <td id=\"T_6f157_row2_col5\" class=\"data row2 col5\" >5.0575</td>\n",
       "    </tr>\n",
       "    <tr>\n",
       "      <th id=\"T_6f157_level0_row3\" class=\"row_heading level0 row3\" >3</th>\n",
       "      <td id=\"T_6f157_row3_col0\" class=\"data row3 col0\" >259.2153</td>\n",
       "      <td id=\"T_6f157_row3_col1\" class=\"data row3 col1\" >141625.7266</td>\n",
       "      <td id=\"T_6f157_row3_col2\" class=\"data row3 col2\" >376.3319</td>\n",
       "      <td id=\"T_6f157_row3_col3\" class=\"data row3 col3\" >0.3629</td>\n",
       "      <td id=\"T_6f157_row3_col4\" class=\"data row3 col4\" >1.7530</td>\n",
       "      <td id=\"T_6f157_row3_col5\" class=\"data row3 col5\" >5.8392</td>\n",
       "    </tr>\n",
       "    <tr>\n",
       "      <th id=\"T_6f157_level0_row4\" class=\"row_heading level0 row4\" >4</th>\n",
       "      <td id=\"T_6f157_row4_col0\" class=\"data row4 col0\" >226.4793</td>\n",
       "      <td id=\"T_6f157_row4_col1\" class=\"data row4 col1\" >87963.8001</td>\n",
       "      <td id=\"T_6f157_row4_col2\" class=\"data row4 col2\" >296.5869</td>\n",
       "      <td id=\"T_6f157_row4_col3\" class=\"data row4 col3\" >0.4075</td>\n",
       "      <td id=\"T_6f157_row4_col4\" class=\"data row4 col4\" >1.6690</td>\n",
       "      <td id=\"T_6f157_row4_col5\" class=\"data row4 col5\" >5.2067</td>\n",
       "    </tr>\n",
       "    <tr>\n",
       "      <th id=\"T_6f157_level0_row5\" class=\"row_heading level0 row5\" >5</th>\n",
       "      <td id=\"T_6f157_row5_col0\" class=\"data row5 col0\" >236.9403</td>\n",
       "      <td id=\"T_6f157_row5_col1\" class=\"data row5 col1\" >117725.9164</td>\n",
       "      <td id=\"T_6f157_row5_col2\" class=\"data row5 col2\" >343.1121</td>\n",
       "      <td id=\"T_6f157_row5_col3\" class=\"data row5 col3\" >0.4192</td>\n",
       "      <td id=\"T_6f157_row5_col4\" class=\"data row5 col4\" >1.6616</td>\n",
       "      <td id=\"T_6f157_row5_col5\" class=\"data row5 col5\" >5.3999</td>\n",
       "    </tr>\n",
       "    <tr>\n",
       "      <th id=\"T_6f157_level0_row6\" class=\"row_heading level0 row6\" >6</th>\n",
       "      <td id=\"T_6f157_row6_col0\" class=\"data row6 col0\" >233.8700</td>\n",
       "      <td id=\"T_6f157_row6_col1\" class=\"data row6 col1\" >104042.4200</td>\n",
       "      <td id=\"T_6f157_row6_col2\" class=\"data row6 col2\" >322.5561</td>\n",
       "      <td id=\"T_6f157_row6_col3\" class=\"data row6 col3\" >0.4018</td>\n",
       "      <td id=\"T_6f157_row6_col4\" class=\"data row6 col4\" >1.6438</td>\n",
       "      <td id=\"T_6f157_row6_col5\" class=\"data row6 col5\" >5.0474</td>\n",
       "    </tr>\n",
       "    <tr>\n",
       "      <th id=\"T_6f157_level0_row7\" class=\"row_heading level0 row7\" >7</th>\n",
       "      <td id=\"T_6f157_row7_col0\" class=\"data row7 col0\" >219.0886</td>\n",
       "      <td id=\"T_6f157_row7_col1\" class=\"data row7 col1\" >89661.0173</td>\n",
       "      <td id=\"T_6f157_row7_col2\" class=\"data row7 col2\" >299.4345</td>\n",
       "      <td id=\"T_6f157_row7_col3\" class=\"data row7 col3\" >0.4161</td>\n",
       "      <td id=\"T_6f157_row7_col4\" class=\"data row7 col4\" >1.6379</td>\n",
       "      <td id=\"T_6f157_row7_col5\" class=\"data row7 col5\" >5.1274</td>\n",
       "    </tr>\n",
       "    <tr>\n",
       "      <th id=\"T_6f157_level0_row8\" class=\"row_heading level0 row8\" >8</th>\n",
       "      <td id=\"T_6f157_row8_col0\" class=\"data row8 col0\" >216.9526</td>\n",
       "      <td id=\"T_6f157_row8_col1\" class=\"data row8 col1\" >88712.2886</td>\n",
       "      <td id=\"T_6f157_row8_col2\" class=\"data row8 col2\" >297.8461</td>\n",
       "      <td id=\"T_6f157_row8_col3\" class=\"data row8 col3\" >0.4140</td>\n",
       "      <td id=\"T_6f157_row8_col4\" class=\"data row8 col4\" >1.6406</td>\n",
       "      <td id=\"T_6f157_row8_col5\" class=\"data row8 col5\" >4.9427</td>\n",
       "    </tr>\n",
       "    <tr>\n",
       "      <th id=\"T_6f157_level0_row9\" class=\"row_heading level0 row9\" >9</th>\n",
       "      <td id=\"T_6f157_row9_col0\" class=\"data row9 col0\" >245.5418</td>\n",
       "      <td id=\"T_6f157_row9_col1\" class=\"data row9 col1\" >125232.5392</td>\n",
       "      <td id=\"T_6f157_row9_col2\" class=\"data row9 col2\" >353.8821</td>\n",
       "      <td id=\"T_6f157_row9_col3\" class=\"data row9 col3\" >0.3781</td>\n",
       "      <td id=\"T_6f157_row9_col4\" class=\"data row9 col4\" >1.7141</td>\n",
       "      <td id=\"T_6f157_row9_col5\" class=\"data row9 col5\" >5.6139</td>\n",
       "    </tr>\n",
       "    <tr>\n",
       "      <th id=\"T_6f157_level0_row10\" class=\"row_heading level0 row10\" >Mean</th>\n",
       "      <td id=\"T_6f157_row10_col0\" class=\"data row10 col0\" >229.1405</td>\n",
       "      <td id=\"T_6f157_row10_col1\" class=\"data row10 col1\" >104986.8400</td>\n",
       "      <td id=\"T_6f157_row10_col2\" class=\"data row10 col2\" >322.8240</td>\n",
       "      <td id=\"T_6f157_row10_col3\" class=\"data row10 col3\" >0.4077</td>\n",
       "      <td id=\"T_6f157_row10_col4\" class=\"data row10 col4\" >1.6681</td>\n",
       "      <td id=\"T_6f157_row10_col5\" class=\"data row10 col5\" >5.2735</td>\n",
       "    </tr>\n",
       "    <tr>\n",
       "      <th id=\"T_6f157_level0_row11\" class=\"row_heading level0 row11\" >Std</th>\n",
       "      <td id=\"T_6f157_row11_col0\" class=\"data row11 col0\" >14.6892</td>\n",
       "      <td id=\"T_6f157_row11_col1\" class=\"data row11 col1\" >18330.6355</td>\n",
       "      <td id=\"T_6f157_row11_col2\" class=\"data row11 col2\" >27.7759</td>\n",
       "      <td id=\"T_6f157_row11_col3\" class=\"data row11 col3\" >0.0243</td>\n",
       "      <td id=\"T_6f157_row11_col4\" class=\"data row11 col4\" >0.0448</td>\n",
       "      <td id=\"T_6f157_row11_col5\" class=\"data row11 col5\" >0.3083</td>\n",
       "    </tr>\n",
       "  </tbody>\n",
       "</table>\n"
      ],
      "text/plain": [
       "<pandas.io.formats.style.Styler at 0x141373bce90>"
      ]
     },
     "metadata": {},
     "output_type": "display_data"
    },
    {
     "data": {
      "text/html": [],
      "text/plain": [
       "<IPython.core.display.HTML object>"
      ]
     },
     "metadata": {},
     "output_type": "display_data"
    },
    {
     "data": {
      "text/html": [
       "<style type=\"text/css\">\n",
       "</style>\n",
       "<table id=\"T_98159\">\n",
       "  <thead>\n",
       "    <tr>\n",
       "      <th class=\"blank level0\" >&nbsp;</th>\n",
       "      <th id=\"T_98159_level0_col0\" class=\"col_heading level0 col0\" >Model</th>\n",
       "      <th id=\"T_98159_level0_col1\" class=\"col_heading level0 col1\" >MAE</th>\n",
       "      <th id=\"T_98159_level0_col2\" class=\"col_heading level0 col2\" >MSE</th>\n",
       "      <th id=\"T_98159_level0_col3\" class=\"col_heading level0 col3\" >RMSE</th>\n",
       "      <th id=\"T_98159_level0_col4\" class=\"col_heading level0 col4\" >R2</th>\n",
       "      <th id=\"T_98159_level0_col5\" class=\"col_heading level0 col5\" >RMSLE</th>\n",
       "      <th id=\"T_98159_level0_col6\" class=\"col_heading level0 col6\" >MAPE</th>\n",
       "    </tr>\n",
       "  </thead>\n",
       "  <tbody>\n",
       "    <tr>\n",
       "      <th id=\"T_98159_level0_row0\" class=\"row_heading level0 row0\" >0</th>\n",
       "      <td id=\"T_98159_row0_col0\" class=\"data row0 col0\" >Linear Regression</td>\n",
       "      <td id=\"T_98159_row0_col1\" class=\"data row0 col1\" >229.4309</td>\n",
       "      <td id=\"T_98159_row0_col2\" class=\"data row0 col2\" >104972.8323</td>\n",
       "      <td id=\"T_98159_row0_col3\" class=\"data row0 col3\" >323.9951</td>\n",
       "      <td id=\"T_98159_row0_col4\" class=\"data row0 col4\" >0.4121</td>\n",
       "      <td id=\"T_98159_row0_col5\" class=\"data row0 col5\" >1.6730</td>\n",
       "      <td id=\"T_98159_row0_col6\" class=\"data row0 col6\" >5.2894</td>\n",
       "    </tr>\n",
       "  </tbody>\n",
       "</table>\n"
      ],
      "text/plain": [
       "<pandas.io.formats.style.Styler at 0x14136519810>"
      ]
     },
     "metadata": {},
     "output_type": "display_data"
    },
    {
     "ename": "KeyError",
     "evalue": "\"['Label'] not in index\"",
     "output_type": "error",
     "traceback": [
      "\u001b[1;31m---------------------------------------------------------------------------\u001b[0m",
      "\u001b[1;31mKeyError\u001b[0m                                  Traceback (most recent call last)",
      "Cell \u001b[1;32mIn[30], line 19\u001b[0m\n\u001b[0;32m     16\u001b[0m predictions \u001b[38;5;241m=\u001b[39m predict_model(final_linear_model, data\u001b[38;5;241m=\u001b[39mdf)\n\u001b[0;32m     18\u001b[0m \u001b[38;5;66;03m# Display actual vs predicted values\u001b[39;00m\n\u001b[1;32m---> 19\u001b[0m \u001b[38;5;28mprint\u001b[39m(\u001b[43mpredictions\u001b[49m\u001b[43m[\u001b[49m\u001b[43m[\u001b[49m\u001b[38;5;124;43m'\u001b[39;49m\u001b[38;5;124;43mPrice\u001b[39;49m\u001b[38;5;124;43m'\u001b[39;49m\u001b[43m,\u001b[49m\u001b[43m \u001b[49m\u001b[38;5;124;43m'\u001b[39;49m\u001b[38;5;124;43mLabel\u001b[39;49m\u001b[38;5;124;43m'\u001b[39;49m\u001b[43m]\u001b[49m\u001b[43m]\u001b[49m\u001b[38;5;241m.\u001b[39mhead())\n",
      "File \u001b[1;32m~\\AppData\\Local\\Programs\\Python\\Python311\\Lib\\site-packages\\pandas\\core\\frame.py:3899\u001b[0m, in \u001b[0;36mDataFrame.__getitem__\u001b[1;34m(self, key)\u001b[0m\n\u001b[0;32m   3897\u001b[0m     \u001b[38;5;28;01mif\u001b[39;00m is_iterator(key):\n\u001b[0;32m   3898\u001b[0m         key \u001b[38;5;241m=\u001b[39m \u001b[38;5;28mlist\u001b[39m(key)\n\u001b[1;32m-> 3899\u001b[0m     indexer \u001b[38;5;241m=\u001b[39m \u001b[38;5;28;43mself\u001b[39;49m\u001b[38;5;241;43m.\u001b[39;49m\u001b[43mcolumns\u001b[49m\u001b[38;5;241;43m.\u001b[39;49m\u001b[43m_get_indexer_strict\u001b[49m\u001b[43m(\u001b[49m\u001b[43mkey\u001b[49m\u001b[43m,\u001b[49m\u001b[43m \u001b[49m\u001b[38;5;124;43m\"\u001b[39;49m\u001b[38;5;124;43mcolumns\u001b[39;49m\u001b[38;5;124;43m\"\u001b[39;49m\u001b[43m)\u001b[49m[\u001b[38;5;241m1\u001b[39m]\n\u001b[0;32m   3901\u001b[0m \u001b[38;5;66;03m# take() does not accept boolean indexers\u001b[39;00m\n\u001b[0;32m   3902\u001b[0m \u001b[38;5;28;01mif\u001b[39;00m \u001b[38;5;28mgetattr\u001b[39m(indexer, \u001b[38;5;124m\"\u001b[39m\u001b[38;5;124mdtype\u001b[39m\u001b[38;5;124m\"\u001b[39m, \u001b[38;5;28;01mNone\u001b[39;00m) \u001b[38;5;241m==\u001b[39m \u001b[38;5;28mbool\u001b[39m:\n",
      "File \u001b[1;32m~\\AppData\\Local\\Programs\\Python\\Python311\\Lib\\site-packages\\pandas\\core\\indexes\\base.py:6115\u001b[0m, in \u001b[0;36mIndex._get_indexer_strict\u001b[1;34m(self, key, axis_name)\u001b[0m\n\u001b[0;32m   6112\u001b[0m \u001b[38;5;28;01melse\u001b[39;00m:\n\u001b[0;32m   6113\u001b[0m     keyarr, indexer, new_indexer \u001b[38;5;241m=\u001b[39m \u001b[38;5;28mself\u001b[39m\u001b[38;5;241m.\u001b[39m_reindex_non_unique(keyarr)\n\u001b[1;32m-> 6115\u001b[0m \u001b[38;5;28;43mself\u001b[39;49m\u001b[38;5;241;43m.\u001b[39;49m\u001b[43m_raise_if_missing\u001b[49m\u001b[43m(\u001b[49m\u001b[43mkeyarr\u001b[49m\u001b[43m,\u001b[49m\u001b[43m \u001b[49m\u001b[43mindexer\u001b[49m\u001b[43m,\u001b[49m\u001b[43m \u001b[49m\u001b[43maxis_name\u001b[49m\u001b[43m)\u001b[49m\n\u001b[0;32m   6117\u001b[0m keyarr \u001b[38;5;241m=\u001b[39m \u001b[38;5;28mself\u001b[39m\u001b[38;5;241m.\u001b[39mtake(indexer)\n\u001b[0;32m   6118\u001b[0m \u001b[38;5;28;01mif\u001b[39;00m \u001b[38;5;28misinstance\u001b[39m(key, Index):\n\u001b[0;32m   6119\u001b[0m     \u001b[38;5;66;03m# GH 42790 - Preserve name from an Index\u001b[39;00m\n",
      "File \u001b[1;32m~\\AppData\\Local\\Programs\\Python\\Python311\\Lib\\site-packages\\pandas\\core\\indexes\\base.py:6179\u001b[0m, in \u001b[0;36mIndex._raise_if_missing\u001b[1;34m(self, key, indexer, axis_name)\u001b[0m\n\u001b[0;32m   6176\u001b[0m     \u001b[38;5;28;01mraise\u001b[39;00m \u001b[38;5;167;01mKeyError\u001b[39;00m(\u001b[38;5;124mf\u001b[39m\u001b[38;5;124m\"\u001b[39m\u001b[38;5;124mNone of [\u001b[39m\u001b[38;5;132;01m{\u001b[39;00mkey\u001b[38;5;132;01m}\u001b[39;00m\u001b[38;5;124m] are in the [\u001b[39m\u001b[38;5;132;01m{\u001b[39;00maxis_name\u001b[38;5;132;01m}\u001b[39;00m\u001b[38;5;124m]\u001b[39m\u001b[38;5;124m\"\u001b[39m)\n\u001b[0;32m   6178\u001b[0m not_found \u001b[38;5;241m=\u001b[39m \u001b[38;5;28mlist\u001b[39m(ensure_index(key)[missing_mask\u001b[38;5;241m.\u001b[39mnonzero()[\u001b[38;5;241m0\u001b[39m]]\u001b[38;5;241m.\u001b[39munique())\n\u001b[1;32m-> 6179\u001b[0m \u001b[38;5;28;01mraise\u001b[39;00m \u001b[38;5;167;01mKeyError\u001b[39;00m(\u001b[38;5;124mf\u001b[39m\u001b[38;5;124m\"\u001b[39m\u001b[38;5;132;01m{\u001b[39;00mnot_found\u001b[38;5;132;01m}\u001b[39;00m\u001b[38;5;124m not in index\u001b[39m\u001b[38;5;124m\"\u001b[39m)\n",
      "\u001b[1;31mKeyError\u001b[0m: \"['Label'] not in index\""
     ]
    }
   ],
   "source": [
    "from pycaret.regression import setup, create_model, finalize_model, predict_model\n",
    "\n",
    "# Set up PyCaret for regression\n",
    "reg_setup = setup(\n",
    "    data=df,\n",
    "    target='Price',\n",
    "    session_id=123,  # Ensures reproducibility\n",
    "    verbose=False     # Suppress verbose output\n",
    ")\n",
    "\n",
    "# Create and finalize a Linear Regression model\n",
    "linear_model = create_model('lr')\n",
    "final_linear_model = finalize_model(linear_model)\n",
    "\n",
    "# Make predictions\n",
    "predictions = predict_model(final_linear_model, data=df)\n",
    "\n",
    "# Display actual vs predicted values\n",
    "print(predictions[['Price', 'Label']].head())\n"
   ]
  },
  {
   "cell_type": "code",
   "execution_count": null,
   "id": "c03c6bf7-c52d-410b-814a-cfbea8757020",
   "metadata": {},
   "outputs": [],
   "source": []
  }
 ],
 "metadata": {
  "kernelspec": {
   "display_name": "Python 3 (ipykernel)",
   "language": "python",
   "name": "python3"
  },
  "language_info": {
   "codemirror_mode": {
    "name": "ipython",
    "version": 3
   },
   "file_extension": ".py",
   "mimetype": "text/x-python",
   "name": "python",
   "nbconvert_exporter": "python",
   "pygments_lexer": "ipython3",
   "version": "3.11.5"
  }
 },
 "nbformat": 4,
 "nbformat_minor": 5
}
