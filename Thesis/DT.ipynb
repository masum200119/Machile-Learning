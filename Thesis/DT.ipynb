{
 "cells": [
  {
   "cell_type": "code",
   "execution_count": 18,
   "metadata": {},
   "outputs": [],
   "source": [
    "from sklearn.tree import export_graphviz\n"
   ]
  },
  {
   "cell_type": "code",
   "execution_count": 19,
   "metadata": {},
   "outputs": [],
   "source": [
    "from sklearn.datasets import make_moons\n",
    "from sklearn.model_selection import train_test_split, GridSearchCV\n",
    "from sklearn.tree import DecisionTreeClassifier\n"
   ]
  },
  {
   "cell_type": "code",
   "execution_count": 20,
   "metadata": {},
   "outputs": [],
   "source": [
    "from matplotlib.colors import ListedColormap\n"
   ]
  },
  {
   "cell_type": "code",
   "execution_count": 21,
   "metadata": {},
   "outputs": [],
   "source": [
    "import graphviz\n"
   ]
  },
  {
   "cell_type": "code",
   "execution_count": 22,
   "metadata": {},
   "outputs": [],
   "source": [
    "from sklearn.preprocessing import StandardScaler\n",
    "import pandas as pd\n",
    "from mlxtend.feature_selection import SequentialFeatureSelector as SFS"
   ]
  },
  {
   "cell_type": "code",
   "execution_count": 23,
   "metadata": {},
   "outputs": [
    {
     "data": {
      "text/plain": [
       "(87, 32)"
      ]
     },
     "execution_count": 23,
     "metadata": {},
     "output_type": "execute_result"
    }
   ],
   "source": [
    "f=pd.read_csv('Task4.csv')\n",
    "f = f.set_index('Task')\n",
    "df = f.to_numpy()\n",
    "df.shape"
   ]
  },
  {
   "cell_type": "code",
   "execution_count": 24,
   "metadata": {},
   "outputs": [
    {
     "data": {
      "text/plain": [
       "array([['c2001', 0, 1678.33, ..., 1752.350625, 347.07057142857127,\n",
       "        0.0588235294117647],\n",
       "       ['c2001', 0, 1404.52, ..., 1667.5464705882348, 337.62027027027017,\n",
       "        0.0555555555555555],\n",
       "       ['c2001', 0, 1491.17, ..., 1630.6761111111111, 311.5283720930231,\n",
       "        0.1428571428571428],\n",
       "       ...,\n",
       "       ['kr007', 1, 1356.0, ..., 2333.0916666666667, 498.032, 0.0],\n",
       "       ['kr007', 1, 1857.75, ..., 2163.9430769230767, 461.16206896551705,\n",
       "        0.0714285714285714],\n",
       "       ['kr007', 1, 2921.1, ..., 1355.102, 341.55720930232553,\n",
       "        0.0476190476190476]], dtype=object)"
      ]
     },
     "execution_count": 24,
     "metadata": {},
     "output_type": "execute_result"
    }
   ],
   "source": [
    "df"
   ]
  },
  {
   "cell_type": "code",
   "execution_count": 25,
   "metadata": {},
   "outputs": [
    {
     "name": "stdout",
     "output_type": "stream",
     "text": [
      "[0 0 0 0 0 0 0 0 0 0 0 0 0 0 0 0 0 0 0 0 0 0 0 0 0 0 0 0 0 0 0 0 0 0 0 0 0\n",
      " 0 0 0 0 0 0 0 0 1 1 1 1 1 1 1 1 1 1 1 1 1 1 1 1 1 1 1 1 1 1 1 1 1 1 1 1 1\n",
      " 1 1 1 1 1 1 1 1 1 1 1 1 1]\n"
     ]
    }
   ],
   "source": [
    "X = df[:,2:]\n",
    "y = df[:,1]\n",
    "print(y)\n",
    "y=y.astype('int')\n",
    "\n",
    "#データチューニング\n",
    "tuned_parameters = {'max_depth':[1, 2, 3, 4, 5],\n",
    "         'min_samples_leaf':[1, 2, 3, 4, 5, 6, 7, 8, 9, 10],\n",
    "         'min_samples_split':[2, 3, 4, 5]}\n",
    "\n",
    "#DecisionTreeClassifier(max_depth=4, min_samples_leaf=2, random_state=0)\n",
    "\n",
    "\n",
    "from sklearn.model_selection import LeaveOneOut\n",
    "\n",
    "# create loocv procedure\n",
    "cv = LeaveOneOut()\n",
    "\n",
    "clf = GridSearchCV(DecisionTreeClassifier(random_state=0),   # グリッドサーチで決定木を定義\n",
    "                   tuned_parameters,\n",
    "                   cv=cv,\n",
    "                   n_jobs=-1,\n",
    "                   verbose=2\n",
    "                  )"
   ]
  },
  {
   "cell_type": "code",
   "execution_count": 26,
   "metadata": {},
   "outputs": [],
   "source": [
    "stdsc = StandardScaler()\n",
    "X_std = stdsc.fit_transform(X)"
   ]
  },
  {
   "cell_type": "code",
   "execution_count": 28,
   "metadata": {},
   "outputs": [
    {
     "name": "stderr",
     "output_type": "stream",
     "text": [
      "[Parallel(n_jobs=-1)]: Using backend LokyBackend with 8 concurrent workers.\n",
      "[Parallel(n_jobs=-1)]: Done  30 out of  30 | elapsed:    0.7s finished\n",
      "Features: 1/2[Parallel(n_jobs=-1)]: Using backend LokyBackend with 8 concurrent workers.\n",
      "[Parallel(n_jobs=-1)]: Done  29 out of  29 | elapsed:    0.7s finished\n",
      "Features: 2/2"
     ]
    },
    {
     "name": "stdout",
     "output_type": "stream",
     "text": [
      "Fitting 87 folds for each of 200 candidates, totalling 17400 fits\n",
      "0.8735632183908046 {'max_depth': 3, 'min_samples_leaf': 4, 'min_samples_split': 2}\n"
     ]
    },
    {
     "name": "stderr",
     "output_type": "stream",
     "text": [
      "[Parallel(n_jobs=-1)]: Using backend LokyBackend with 8 concurrent workers.\n",
      "[Parallel(n_jobs=-1)]: Done  30 out of  30 | elapsed:    0.7s finished\n",
      "Features: 1/3[Parallel(n_jobs=-1)]: Using backend LokyBackend with 8 concurrent workers.\n",
      "[Parallel(n_jobs=-1)]: Done  29 out of  29 | elapsed:    0.7s finished\n",
      "Features: 2/3[Parallel(n_jobs=-1)]: Using backend LokyBackend with 8 concurrent workers.\n",
      "[Parallel(n_jobs=-1)]: Done  28 out of  28 | elapsed:    0.8s finished\n",
      "[Parallel(n_jobs=-1)]: Using backend LokyBackend with 8 concurrent workers.\n",
      "[Parallel(n_jobs=-1)]: Done   2 out of   2 | elapsed:    0.1s finished\n",
      "Features: 3/3"
     ]
    },
    {
     "name": "stdout",
     "output_type": "stream",
     "text": [
      "Fitting 87 folds for each of 200 candidates, totalling 17400 fits\n",
      "0.9195402298850575 {'max_depth': 4, 'min_samples_leaf': 4, 'min_samples_split': 2}\n"
     ]
    }
   ],
   "source": [
    "best_acc = 0\n",
    "re = pd.DataFrame()\n",
    "stdsc = StandardScaler()\n",
    "X_std = stdsc.fit_transform(X)\n",
    "for i in range(2,4):\n",
    "    sffs = SFS(\n",
    "    DecisionTreeClassifier(random_state=0), # 使う学習器\n",
    "    k_features=i, #特徴をいくつまで選択するか\n",
    "    forward=True, #Trueでforward selectionになる。Falseでback\n",
    "    floating=True, #sffsを行うためのもの。\n",
    "    verbose=1, #実行時のlogをどれだけ詳しく表示するか\n",
    "    scoring='accuracy', # 評価指標\n",
    "    cv=cv,#クロスバリデーション\n",
    "    n_jobs=-1\n",
    "    )\n",
    "\n",
    "    sffs = sffs.fit(X_std, y)\n",
    "    #選ばれた特徴\n",
    "    X_train_sffs = X_std[:,list(sffs.k_feature_idx_)]\n",
    "\n",
    "    X_train_sffs_std = stdsc.fit_transform(X_train_sffs)\n",
    "    \n",
    "    clf = GridSearchCV(DecisionTreeClassifier(random_state=0),   # グリッドサーチで決定木を定義\n",
    "                   tuned_parameters,\n",
    "                   cv=cv,\n",
    "                   n_jobs=-1,\n",
    "                   verbose=2\n",
    "                  )\n",
    "    \n",
    "    clf.fit(X_train_sffs_std, y)\n",
    "\n",
    "    print(clf.best_score_, clf.best_params_)\n",
    "    \n",
    "    if clf.best_score_ < best_acc - 0.05:\n",
    "        break\n",
    "    elif clf.best_score_ > best_acc:\n",
    "        best_acc = clf.best_score_\n",
    "    \n",
    "    re_i = pd.DataFrame([[sffs.k_feature_idx_,clf.best_score_,clf.best_params_]], columns=['Feature','accuracy','param'])\n",
    "    re = pd.concat([re,re_i])\n",
    "    '''# トレーニングデータに対する精度\n",
    "    pred_train = random_forest.predict(X_train_sffs)\n",
    "    accuracy_train = accuracy_score(y_train, pred_train)\n",
    "\n",
    "    # テストデータに対する精度\n",
    "    pred_test = random_forest.predict(X_test_sffs)\n",
    "    accuracy_test = accuracy_score(y_test, pred_test)\n",
    "\n",
    "    re_i = pd.DataFrame([[sffs.k_feature_idx_,accuracy_train,accuracy_test]], columns=['Feature','TrainigScore','TestScore'])\n",
    "    re = pd.concat([re,re_i])\n",
    "\n",
    "re.to_csv('../result/RF_Task1.csv')'''"
   ]
  },
  {
   "cell_type": "code",
   "execution_count": 30,
   "metadata": {},
   "outputs": [],
   "source": [
    "re.to_csv('DT_Task4_SFFS.csv')"
   ]
  },
  {
   "cell_type": "code",
   "execution_count": null,
   "metadata": {},
   "outputs": [],
   "source": []
  }
 ],
 "metadata": {
  "kernelspec": {
   "display_name": "Python 3 (ipykernel)",
   "language": "python",
   "name": "python3"
  },
  "language_info": {
   "codemirror_mode": {
    "name": "ipython",
    "version": 3
   },
   "file_extension": ".py",
   "mimetype": "text/x-python",
   "name": "python",
   "nbconvert_exporter": "python",
   "pygments_lexer": "ipython3",
   "version": "3.11.5"
  }
 },
 "nbformat": 4,
 "nbformat_minor": 4
}
