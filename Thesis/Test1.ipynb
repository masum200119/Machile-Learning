{
 "cells": [
  {
   "cell_type": "code",
   "execution_count": 1,
   "id": "84d3df7d-13cc-4eb3-b1df-648f3d7c7824",
   "metadata": {},
   "outputs": [
    {
     "name": "stdout",
     "output_type": "stream",
     "text": [
      "8\n"
     ]
    }
   ],
   "source": [
    "print(5+3)"
   ]
  },
  {
   "cell_type": "code",
   "execution_count": 2,
   "id": "65673b65-7324-4830-8f3a-015c9df8df41",
   "metadata": {},
   "outputs": [
    {
     "name": "stdout",
     "output_type": "stream",
     "text": [
      "Masum\n"
     ]
    }
   ],
   "source": [
    "print(\"Masum\")"
   ]
  },
  {
   "cell_type": "code",
   "execution_count": 3,
   "id": "ba169cc1-5c88-427f-a663-9a97c7f0f226",
   "metadata": {},
   "outputs": [
    {
     "name": "stdout",
     "output_type": "stream",
     "text": [
      "Collecting graphviz\n",
      "  Downloading graphviz-0.20.3-py3-none-any.whl.metadata (12 kB)\n",
      "Downloading graphviz-0.20.3-py3-none-any.whl (47 kB)\n",
      "   ---------------------------------------- 0.0/47.1 kB ? eta -:--:--\n",
      "   ---------------------------------------- 0.0/47.1 kB ? eta -:--:--\n",
      "   ---------------------------------------- 0.0/47.1 kB ? eta -:--:--\n",
      "   ---------------------------------- ----- 41.0/47.1 kB 960.0 kB/s eta 0:00:01\n",
      "   ---------------------------------- ----- 41.0/47.1 kB 960.0 kB/s eta 0:00:01\n",
      "   ---------------------------------- ----- 41.0/47.1 kB 960.0 kB/s eta 0:00:01\n",
      "   ---------------------------------------- 47.1/47.1 kB 234.9 kB/s eta 0:00:00\n",
      "Installing collected packages: graphviz\n",
      "Successfully installed graphviz-0.20.3\n"
     ]
    },
    {
     "name": "stderr",
     "output_type": "stream",
     "text": [
      "\n",
      "[notice] A new release of pip is available: 24.0 -> 24.3\n",
      "[notice] To update, run: python.exe -m pip install --upgrade pip\n"
     ]
    }
   ],
   "source": [
    "!pip install graphviz\n"
   ]
  },
  {
   "cell_type": "code",
   "execution_count": 4,
   "id": "b0d6e0e3-d66c-48cb-95a2-591a344e3b82",
   "metadata": {},
   "outputs": [
    {
     "name": "stdout",
     "output_type": "stream",
     "text": [
      "Collecting mlxtend\n",
      "  Downloading mlxtend-0.23.1-py3-none-any.whl.metadata (7.3 kB)\n",
      "Requirement already satisfied: scipy>=1.2.1 in c:\\users\\masum\\appdata\\local\\programs\\python\\python311\\lib\\site-packages (from mlxtend) (1.11.4)\n",
      "Requirement already satisfied: numpy>=1.16.2 in c:\\users\\masum\\appdata\\local\\programs\\python\\python311\\lib\\site-packages (from mlxtend) (1.26.1)\n",
      "Requirement already satisfied: pandas>=0.24.2 in c:\\users\\masum\\appdata\\local\\programs\\python\\python311\\lib\\site-packages (from mlxtend) (2.1.4)\n",
      "Requirement already satisfied: scikit-learn>=1.0.2 in c:\\users\\masum\\appdata\\local\\programs\\python\\python311\\lib\\site-packages (from mlxtend) (1.4.2)\n",
      "Requirement already satisfied: matplotlib>=3.0.0 in c:\\users\\masum\\appdata\\local\\programs\\python\\python311\\lib\\site-packages (from mlxtend) (3.7.5)\n",
      "Requirement already satisfied: joblib>=0.13.2 in c:\\users\\masum\\appdata\\local\\programs\\python\\python311\\lib\\site-packages (from mlxtend) (1.3.2)\n",
      "Requirement already satisfied: contourpy>=1.0.1 in c:\\users\\masum\\appdata\\local\\programs\\python\\python311\\lib\\site-packages (from matplotlib>=3.0.0->mlxtend) (1.2.1)\n",
      "Requirement already satisfied: cycler>=0.10 in c:\\users\\masum\\appdata\\local\\programs\\python\\python311\\lib\\site-packages (from matplotlib>=3.0.0->mlxtend) (0.12.1)\n",
      "Requirement already satisfied: fonttools>=4.22.0 in c:\\users\\masum\\appdata\\local\\programs\\python\\python311\\lib\\site-packages (from matplotlib>=3.0.0->mlxtend) (4.53.0)\n",
      "Requirement already satisfied: kiwisolver>=1.0.1 in c:\\users\\masum\\appdata\\local\\programs\\python\\python311\\lib\\site-packages (from matplotlib>=3.0.0->mlxtend) (1.4.5)\n",
      "Requirement already satisfied: packaging>=20.0 in c:\\users\\masum\\appdata\\local\\programs\\python\\python311\\lib\\site-packages (from matplotlib>=3.0.0->mlxtend) (23.2)\n",
      "Requirement already satisfied: pillow>=6.2.0 in c:\\users\\masum\\appdata\\local\\programs\\python\\python311\\lib\\site-packages (from matplotlib>=3.0.0->mlxtend) (9.4.0)\n",
      "Requirement already satisfied: pyparsing>=2.3.1 in c:\\users\\masum\\appdata\\local\\programs\\python\\python311\\lib\\site-packages (from matplotlib>=3.0.0->mlxtend) (3.1.2)\n",
      "Requirement already satisfied: python-dateutil>=2.7 in c:\\users\\masum\\appdata\\local\\programs\\python\\python311\\lib\\site-packages (from matplotlib>=3.0.0->mlxtend) (2.8.2)\n",
      "Requirement already satisfied: pytz>=2020.1 in c:\\users\\masum\\appdata\\local\\programs\\python\\python311\\lib\\site-packages (from pandas>=0.24.2->mlxtend) (2021.1)\n",
      "Requirement already satisfied: tzdata>=2022.1 in c:\\users\\masum\\appdata\\local\\programs\\python\\python311\\lib\\site-packages (from pandas>=0.24.2->mlxtend) (2022.7)\n",
      "Requirement already satisfied: threadpoolctl>=2.0.0 in c:\\users\\masum\\appdata\\local\\programs\\python\\python311\\lib\\site-packages (from scikit-learn>=1.0.2->mlxtend) (3.5.0)\n",
      "Requirement already satisfied: six>=1.5 in c:\\users\\masum\\appdata\\local\\programs\\python\\python311\\lib\\site-packages (from python-dateutil>=2.7->matplotlib>=3.0.0->mlxtend) (1.16.0)\n",
      "Downloading mlxtend-0.23.1-py3-none-any.whl (1.4 MB)\n",
      "   ---------------------------------------- 0.0/1.4 MB ? eta -:--:--\n",
      "   ---------------------------------------- 0.0/1.4 MB ? eta -:--:--\n",
      "   ---------------------------------------- 0.0/1.4 MB ? eta -:--:--\n",
      "    --------------------------------------- 0.0/1.4 MB ? eta -:--:--\n",
      "    --------------------------------------- 0.0/1.4 MB ? eta -:--:--\n",
      "   -- ------------------------------------- 0.1/1.4 MB 871.5 kB/s eta 0:00:02\n",
      "   --- ------------------------------------ 0.1/1.4 MB 722.1 kB/s eta 0:00:02\n",
      "   ---- ----------------------------------- 0.2/1.4 MB 817.0 kB/s eta 0:00:02\n",
      "   ----- ---------------------------------- 0.2/1.4 MB 784.3 kB/s eta 0:00:02\n",
      "   ------- -------------------------------- 0.3/1.4 MB 896.4 kB/s eta 0:00:02\n",
      "   --------- ------------------------------ 0.3/1.4 MB 1.0 MB/s eta 0:00:02\n",
      "   --------- ------------------------------ 0.3/1.4 MB 1.0 MB/s eta 0:00:02\n",
      "   ----------- ---------------------------- 0.4/1.4 MB 970.6 kB/s eta 0:00:02\n",
      "   ------------ --------------------------- 0.5/1.4 MB 1.1 MB/s eta 0:00:01\n",
      "   ------------- -------------------------- 0.5/1.4 MB 992.3 kB/s eta 0:00:01\n",
      "   -------------- ------------------------- 0.5/1.4 MB 992.2 kB/s eta 0:00:01\n",
      "   -------------- ------------------------- 0.5/1.4 MB 992.2 kB/s eta 0:00:01\n",
      "   -------------- ------------------------- 0.5/1.4 MB 835.6 kB/s eta 0:00:02\n",
      "   -------------- ------------------------- 0.5/1.4 MB 835.6 kB/s eta 0:00:02\n",
      "   ---------------- ----------------------- 0.6/1.4 MB 815.7 kB/s eta 0:00:02\n",
      "   ---------------- ----------------------- 0.6/1.4 MB 840.3 kB/s eta 0:00:01\n",
      "   ------------------ --------------------- 0.7/1.4 MB 822.3 kB/s eta 0:00:01\n",
      "   -------------------- ------------------- 0.7/1.4 MB 878.1 kB/s eta 0:00:01\n",
      "   ---------------------- ----------------- 0.8/1.4 MB 924.5 kB/s eta 0:00:01\n",
      "   ---------------------- ----------------- 0.8/1.4 MB 919.4 kB/s eta 0:00:01\n",
      "   ------------------------ --------------- 0.9/1.4 MB 934.8 kB/s eta 0:00:01\n",
      "   --------------------------- ------------ 1.0/1.4 MB 983.0 kB/s eta 0:00:01\n",
      "   ----------------------------- ---------- 1.1/1.4 MB 1.0 MB/s eta 0:00:01\n",
      "   ------------------------------- -------- 1.1/1.4 MB 1.0 MB/s eta 0:00:01\n",
      "   --------------------------------- ------ 1.2/1.4 MB 1.1 MB/s eta 0:00:01\n",
      "   ---------------------------------- ----- 1.2/1.4 MB 1.1 MB/s eta 0:00:01\n",
      "   ----------------------------------- ---- 1.3/1.4 MB 1.1 MB/s eta 0:00:01\n",
      "   ------------------------------------- -- 1.4/1.4 MB 1.1 MB/s eta 0:00:01\n",
      "   ---------------------------------------  1.4/1.4 MB 1.1 MB/s eta 0:00:01\n",
      "   ---------------------------------------- 1.4/1.4 MB 1.1 MB/s eta 0:00:00\n",
      "Installing collected packages: mlxtend\n",
      "Successfully installed mlxtend-0.23.1\n"
     ]
    },
    {
     "name": "stderr",
     "output_type": "stream",
     "text": [
      "\n",
      "[notice] A new release of pip is available: 24.0 -> 24.3\n",
      "[notice] To update, run: python.exe -m pip install --upgrade pip\n"
     ]
    }
   ],
   "source": [
    "!pip install mlxtend\n"
   ]
  },
  {
   "cell_type": "code",
   "execution_count": null,
   "id": "31a08810-ef46-4085-86aa-cf17744f7090",
   "metadata": {},
   "outputs": [],
   "source": []
  }
 ],
 "metadata": {
  "kernelspec": {
   "display_name": "Python 3 (ipykernel)",
   "language": "python",
   "name": "python3"
  },
  "language_info": {
   "codemirror_mode": {
    "name": "ipython",
    "version": 3
   },
   "file_extension": ".py",
   "mimetype": "text/x-python",
   "name": "python",
   "nbconvert_exporter": "python",
   "pygments_lexer": "ipython3",
   "version": "3.11.5"
  }
 },
 "nbformat": 4,
 "nbformat_minor": 5
}
